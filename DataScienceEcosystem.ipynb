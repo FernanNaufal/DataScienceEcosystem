{
 "cells": [
  {
   "cell_type": "markdown",
   "id": "58c568bd-a246-45a2-aeae-3399dbf06376",
   "metadata": {},
   "source": [
    "# Data Science Tools and Ecosystem"
   ]
  },
  {
   "cell_type": "markdown",
   "id": "303f7364-e7dc-4ae1-974c-ea5634f4fb77",
   "metadata": {},
   "source": [
    "In this notebook, Data Science Tools and Ecosystem are summarized."
   ]
  },
  {
   "cell_type": "markdown",
   "id": "f0e62ce9-cb8c-492d-bacc-7ac869e06a9d",
   "metadata": {},
   "source": [
    "Some of the popular languages that Data Scientists use are:\n",
    "1. python\n",
    "2. r\n",
    "3. java"
   ]
  },
  {
   "cell_type": "markdown",
   "id": "2a607033-3b10-4f04-806d-933684a89fb9",
   "metadata": {},
   "source": [
    "Some of the commonly used libraries used by Data Scientists include:\n",
    "1. pandas\n",
    "2. numpy\n",
    "3. matplotlib"
   ]
  },
  {
   "cell_type": "markdown",
   "id": "7fe135b5-17d2-4974-81d2-8c0f7106ea4f",
   "metadata": {
    "tags": []
   },
   "source": [
    "|Data Science Tools|\n",
    "|---|\n",
    "|jupyter notebook|\n",
    "|anaconda|\n",
    "|r studio|"
   ]
  },
  {
   "cell_type": "markdown",
   "id": "b3c58287-39fb-4d82-97a2-2ee21b50724e",
   "metadata": {},
   "source": [
    "Below are a few examples of evaluating arithmetic expressions in Python\n",
    "- $+$\n",
    "- $-$\n",
    "- $/$"
   ]
  },
  {
   "cell_type": "code",
   "execution_count": 3,
   "id": "80f4ceca-0254-4f09-8014-892acb794578",
   "metadata": {
    "tags": []
   },
   "outputs": [
    {
     "data": {
      "text/plain": [
       "9"
      ]
     },
     "execution_count": 3,
     "metadata": {},
     "output_type": "execute_result"
    }
   ],
   "source": [
    "# arithmetic operation\n",
    "result = compile(\"5 + 4\", \"<string>\", \"eval\")\n",
    "eval(result)"
   ]
  },
  {
   "cell_type": "code",
   "execution_count": 5,
   "id": "0691fd1c-8dbb-4e87-a611-a3ee079b9bcf",
   "metadata": {
    "tags": []
   },
   "outputs": [
    {
     "data": {
      "text/plain": [
       "17"
      ]
     },
     "execution_count": 5,
     "metadata": {},
     "output_type": "execute_result"
    }
   ],
   "source": [
    "(3*4)+5\n",
    "# Result: 17"
   ]
  },
  {
   "cell_type": "code",
   "execution_count": 4,
   "id": "1458d42a-0e4f-46ae-a918-b130709b1f9e",
   "metadata": {
    "tags": []
   },
   "outputs": [
    {
     "data": {
      "text/plain": [
       "3.3333333333333335"
      ]
     },
     "execution_count": 4,
     "metadata": {},
     "output_type": "execute_result"
    }
   ],
   "source": [
    "#This will convert 200 minutes to hours by diving by 60\n",
    "minutes=200\n",
    "hours=minutes/60\n",
    "hours"
   ]
  },
  {
   "cell_type": "markdown",
   "id": "4c1b373c-8201-4ca6-a355-43d1efbfd3ff",
   "metadata": {},
   "source": [
    "Objectives: \n",
    "- markdown\n",
    "- jupyter\n",
    "- python\n",
    "\n",
    "List popular languages for Data Science : \n",
    "- python\n",
    "- r\n",
    "- java"
   ]
  },
  {
   "cell_type": "markdown",
   "id": "c99e4f7a-e6dd-4d47-a6ed-b7cf89755789",
   "metadata": {
    "jp-MarkdownHeadingCollapsed": true,
    "tags": []
   },
   "source": [
    "## Author\n",
    "Fernanda"
   ]
  }
 ],
 "metadata": {
  "kernelspec": {
   "display_name": "Python",
   "language": "python",
   "name": "conda-env-python-py"
  },
  "language_info": {
   "codemirror_mode": {
    "name": "ipython",
    "version": 3
   },
   "file_extension": ".py",
   "mimetype": "text/x-python",
   "name": "python",
   "nbconvert_exporter": "python",
   "pygments_lexer": "ipython3",
   "version": "3.7.12"
  }
 },
 "nbformat": 4,
 "nbformat_minor": 5
}
